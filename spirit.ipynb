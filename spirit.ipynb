{
 "cells": [
  {
   "cell_type": "code",
   "execution_count": 32,
   "source": [
    "from bs4 import BeautifulSoup as bs\r\n",
    "import requests\r\n",
    "import pymongo\r\n",
    "from splinter import Browser\r\n",
    "from webdriver_manager.chrome import ChromeDriverManager\r\n",
    "import pandas as pd\r\n",
    "import time"
   ],
   "outputs": [],
   "metadata": {}
  },
  {
   "cell_type": "code",
   "execution_count": 33,
   "source": [
    "#set up chrome\r\n",
    "executable_path = {'executable_path': ChromeDriverManager().install()}\r\n",
    "browser = Browser('chrome', **executable_path, headless=False)"
   ],
   "outputs": [
    {
     "output_type": "stream",
     "name": "stderr",
     "text": [
      "\n",
      "\n",
      "====== WebDriver manager ======\n",
      "Current google-chrome version is 93.0.4577\n",
      "Get LATEST driver version for 93.0.4577\n",
      "Driver [C:\\Users\\steve\\.wdm\\drivers\\chromedriver\\win32\\93.0.4577.15\\chromedriver.exe] found in cache\n"
     ]
    }
   ],
   "metadata": {}
  },
  {
   "cell_type": "code",
   "execution_count": 34,
   "source": [
    "#visit url\r\n",
    "url = \"https://www.ticketweb.com/venue/club-cafe-pittsburgh-pa/23219?pl=opus\"\r\n",
    "request = requests.get(url)\r\n",
    "browser.visit(url)"
   ],
   "outputs": [],
   "metadata": {}
  },
  {
   "cell_type": "code",
   "execution_count": 35,
   "source": [
    "#wait for browser to load calendar into html\r\n",
    "time.sleep(5)"
   ],
   "outputs": [],
   "metadata": {}
  },
  {
   "cell_type": "code",
   "execution_count": 36,
   "source": [
    "#parse HTML\r\n",
    "html = browser.html\r\n",
    "soup = bs(html, \"html.parser\")\r\n",
    "browser.quit()"
   ],
   "outputs": [],
   "metadata": {}
  },
  {
   "cell_type": "code",
   "execution_count": 41,
   "source": [
    "# make lists for dataframe\r\n",
    "event_name = []\r\n",
    "event_desc = []\r\n",
    "event_date = []\r\n",
    "event_time = []\r\n",
    "event_link = []"
   ],
   "outputs": [],
   "metadata": {}
  },
  {
   "cell_type": "code",
   "execution_count": 42,
   "source": [
    "#make list of all the event cards\r\n",
    "results = soup.find_all('li', class_='media theme-mod')"
   ],
   "outputs": [],
   "metadata": {}
  },
  {
   "cell_type": "code",
   "execution_count": 43,
   "source": [
    "for result in results:\r\n",
    "    title = result.find('p', class_='event-name theme-title').text.strip()\r\n",
    "    date = result.find('p', class_='event-date theme-subTitle').text.strip()\r\n",
    "    \r\n",
    "\r\n",
    "    #appendors\r\n",
    "    event_name.append(title)\r\n",
    "    event_date.append(date)"
   ],
   "outputs": [],
   "metadata": {}
  },
  {
   "cell_type": "code",
   "execution_count": 44,
   "source": [
    "club_cafe_df = pd.DataFrame({\r\n",
    "    \"Event\":event_name,\r\n",
    "    \"Date\": event_date\r\n",
    "})\r\n",
    "club_cafe_df.head(10)"
   ],
   "outputs": [
    {
     "output_type": "execute_result",
     "data": {
      "text/html": [
       "<div>\n",
       "<style scoped>\n",
       "    .dataframe tbody tr th:only-of-type {\n",
       "        vertical-align: middle;\n",
       "    }\n",
       "\n",
       "    .dataframe tbody tr th {\n",
       "        vertical-align: top;\n",
       "    }\n",
       "\n",
       "    .dataframe thead th {\n",
       "        text-align: right;\n",
       "    }\n",
       "</style>\n",
       "<table border=\"1\" class=\"dataframe\">\n",
       "  <thead>\n",
       "    <tr style=\"text-align: right;\">\n",
       "      <th></th>\n",
       "      <th>Event</th>\n",
       "      <th>Date</th>\n",
       "    </tr>\n",
       "  </thead>\n",
       "  <tbody>\n",
       "    <tr>\n",
       "      <th>0</th>\n",
       "      <td>(Second Show Added!) - Brownie Mary</td>\n",
       "      <td>Thu Sep 9 8:00 PM (Doors 6:30 PM)</td>\n",
       "    </tr>\n",
       "    <tr>\n",
       "      <th>1</th>\n",
       "      <td>Brownie Mary</td>\n",
       "      <td>Fri Sep 10 8:00 PM (Doors 6:30 PM)</td>\n",
       "    </tr>\n",
       "    <tr>\n",
       "      <th>2</th>\n",
       "      <td>An Evening With Kim Wilson's Blues All-Stars</td>\n",
       "      <td>Sat Sep 11 8:00 PM (Doors 6:30 PM)</td>\n",
       "    </tr>\n",
       "    <tr>\n",
       "      <th>3</th>\n",
       "      <td>Wild Pink / Ratboys with String Machine</td>\n",
       "      <td>Sun Sep 12 8:00 PM (Doors 6:30 PM)</td>\n",
       "    </tr>\n",
       "    <tr>\n",
       "      <th>4</th>\n",
       "      <td>Faye Webster - I Know I'm Funny Fall Tour 2021</td>\n",
       "      <td>Tue Sep 14 8:00 PM (Doors 6:30 PM)</td>\n",
       "    </tr>\n",
       "    <tr>\n",
       "      <th>5</th>\n",
       "      <td>David Sickmen (Hackensaw Boys) / Sunny War</td>\n",
       "      <td>Wed Sep 15 8:00 PM (Doors 6:30 PM)</td>\n",
       "    </tr>\n",
       "    <tr>\n",
       "      <th>6</th>\n",
       "      <td>Street Fight Radio: The #1 Anarcho-Comedy Show...</td>\n",
       "      <td>Thu Sep 16 8:00 PM (Doors 6:30 PM)</td>\n",
       "    </tr>\n",
       "    <tr>\n",
       "      <th>7</th>\n",
       "      <td>Lightning Bolt with Fortune Teller</td>\n",
       "      <td>Fri Sep 17 8:00 PM (Doors 7:00 PM)</td>\n",
       "    </tr>\n",
       "    <tr>\n",
       "      <th>8</th>\n",
       "      <td>Jon Worthy with Black Cat Moan</td>\n",
       "      <td>Sat Sep 18 8:00 PM (Doors 6:30 PM)</td>\n",
       "    </tr>\n",
       "    <tr>\n",
       "      <th>9</th>\n",
       "      <td>Crystal Bowersox with Special Guest Phillip-Mi...</td>\n",
       "      <td>Mon Sep 20 8:00 PM (Doors 6:30 PM)</td>\n",
       "    </tr>\n",
       "  </tbody>\n",
       "</table>\n",
       "</div>"
      ],
      "text/plain": [
       "                                               Event  \\\n",
       "0                (Second Show Added!) - Brownie Mary   \n",
       "1                                       Brownie Mary   \n",
       "2       An Evening With Kim Wilson's Blues All-Stars   \n",
       "3            Wild Pink / Ratboys with String Machine   \n",
       "4     Faye Webster - I Know I'm Funny Fall Tour 2021   \n",
       "5         David Sickmen (Hackensaw Boys) / Sunny War   \n",
       "6  Street Fight Radio: The #1 Anarcho-Comedy Show...   \n",
       "7                 Lightning Bolt with Fortune Teller   \n",
       "8                     Jon Worthy with Black Cat Moan   \n",
       "9  Crystal Bowersox with Special Guest Phillip-Mi...   \n",
       "\n",
       "                                 Date  \n",
       "0   Thu Sep 9 8:00 PM (Doors 6:30 PM)  \n",
       "1  Fri Sep 10 8:00 PM (Doors 6:30 PM)  \n",
       "2  Sat Sep 11 8:00 PM (Doors 6:30 PM)  \n",
       "3  Sun Sep 12 8:00 PM (Doors 6:30 PM)  \n",
       "4  Tue Sep 14 8:00 PM (Doors 6:30 PM)  \n",
       "5  Wed Sep 15 8:00 PM (Doors 6:30 PM)  \n",
       "6  Thu Sep 16 8:00 PM (Doors 6:30 PM)  \n",
       "7  Fri Sep 17 8:00 PM (Doors 7:00 PM)  \n",
       "8  Sat Sep 18 8:00 PM (Doors 6:30 PM)  \n",
       "9  Mon Sep 20 8:00 PM (Doors 6:30 PM)  "
      ]
     },
     "metadata": {},
     "execution_count": 44
    }
   ],
   "metadata": {}
  }
 ],
 "metadata": {
  "orig_nbformat": 4,
  "language_info": {
   "name": "python",
   "version": "3.9.6",
   "mimetype": "text/x-python",
   "codemirror_mode": {
    "name": "ipython",
    "version": 3
   },
   "pygments_lexer": "ipython3",
   "nbconvert_exporter": "python",
   "file_extension": ".py"
  },
  "kernelspec": {
   "name": "python3",
   "display_name": "Python 3.9.6 64-bit ('PythonData': conda)"
  },
  "interpreter": {
   "hash": "3b32922ae442944bae51de5c420d7545d4126864cdc0e7cb358b7d9924f39d3e"
  }
 },
 "nbformat": 4,
 "nbformat_minor": 2
}