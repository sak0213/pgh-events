{
 "cells": [
  {
   "cell_type": "code",
   "execution_count": 15,
   "source": [
    "from bs4 import BeautifulSoup as bs\r\n",
    "import requests\r\n",
    "import pymongo\r\n",
    "from splinter import Browser\r\n",
    "from webdriver_manager.chrome import ChromeDriverManager\r\n",
    "import pandas as pd\r\n",
    "import time"
   ],
   "outputs": [],
   "metadata": {}
  },
  {
   "cell_type": "code",
   "execution_count": 16,
   "source": [
    "#set up chrome\r\n",
    "executable_path = {'executable_path': ChromeDriverManager().install()}\r\n",
    "browser = Browser('chrome', **executable_path, headless=False)"
   ],
   "outputs": [
    {
     "output_type": "stream",
     "name": "stderr",
     "text": [
      "\n",
      "\n",
      "====== WebDriver manager ======\n",
      "Current google-chrome version is 93.0.4577\n",
      "Get LATEST driver version for 93.0.4577\n",
      "Driver [C:\\Users\\steve\\.wdm\\drivers\\chromedriver\\win32\\93.0.4577.15\\chromedriver.exe] found in cache\n"
     ]
    }
   ],
   "metadata": {}
  },
  {
   "cell_type": "code",
   "execution_count": 17,
   "source": [
    "#visit url\r\n",
    "url = \"https://mrsmalls.com/listing/\"\r\n",
    "request = requests.get(url)\r\n",
    "browser.visit(url)"
   ],
   "outputs": [],
   "metadata": {}
  },
  {
   "cell_type": "code",
   "execution_count": 18,
   "source": [
    "#wait for browser to load calendar into html\r\n",
    "time.sleep(5)"
   ],
   "outputs": [],
   "metadata": {}
  },
  {
   "cell_type": "code",
   "execution_count": 19,
   "source": [
    "#parse HTML\r\n",
    "html = browser.html\r\n",
    "soup = bs(html, \"html.parser\")\r\n",
    "browser.quit()"
   ],
   "outputs": [],
   "metadata": {}
  },
  {
   "cell_type": "code",
   "execution_count": 20,
   "source": [
    "# make lists for dataframe\r\n",
    "event_name = []\r\n",
    "event_desc = []\r\n",
    "event_date = []\r\n",
    "event_time = []\r\n",
    "event_link = []"
   ],
   "outputs": [],
   "metadata": {}
  },
  {
   "cell_type": "code",
   "execution_count": 21,
   "source": [
    "#make list of all the event cards\r\n",
    "results = soup.find_all('div', class_='cell small-12 event')"
   ],
   "outputs": [],
   "metadata": {}
  },
  {
   "cell_type": "code",
   "execution_count": 22,
   "source": [
    "for result in results:\r\n",
    "    title = result.find('h4', class_='show-title').text.strip()\r\n",
    "    date = result.find('div', class_='date-show').text.strip()\r\n",
    "    \r\n",
    "\r\n",
    "    #appendors\r\n",
    "    event_name.append(title)\r\n",
    "    event_date.append(date)"
   ],
   "outputs": [],
   "metadata": {}
  },
  {
   "cell_type": "code",
   "execution_count": 23,
   "source": [
    "mr_smalls_df = pd.DataFrame({\r\n",
    "    \"Event\":event_name,\r\n",
    "    \"Date\": event_date\r\n",
    "})\r\n",
    "mr_smalls_df.head(10)"
   ],
   "outputs": [
    {
     "output_type": "execute_result",
     "data": {
      "text/html": [
       "<div>\n",
       "<style scoped>\n",
       "    .dataframe tbody tr th:only-of-type {\n",
       "        vertical-align: middle;\n",
       "    }\n",
       "\n",
       "    .dataframe tbody tr th {\n",
       "        vertical-align: top;\n",
       "    }\n",
       "\n",
       "    .dataframe thead th {\n",
       "        text-align: right;\n",
       "    }\n",
       "</style>\n",
       "<table border=\"1\" class=\"dataframe\">\n",
       "  <thead>\n",
       "    <tr style=\"text-align: right;\">\n",
       "      <th></th>\n",
       "      <th>Event</th>\n",
       "      <th>Date</th>\n",
       "    </tr>\n",
       "  </thead>\n",
       "  <tbody>\n",
       "    <tr>\n",
       "      <th>0</th>\n",
       "      <td>POSTPONED – New Date TBA: Dinosaur Jr. with Sp...</td>\n",
       "      <td>Friday, September 10, 2021</td>\n",
       "    </tr>\n",
       "    <tr>\n",
       "      <th>1</th>\n",
       "      <td>POSTPONED – Chet Vincent &amp; Biirdwatcher, The R...</td>\n",
       "      <td>Friday, September 10, 2021</td>\n",
       "    </tr>\n",
       "    <tr>\n",
       "      <th>2</th>\n",
       "      <td>CANCELLED – Moon Taxi with Special Guest Spark...</td>\n",
       "      <td>Sunday, September 12, 2021</td>\n",
       "    </tr>\n",
       "    <tr>\n",
       "      <th>3</th>\n",
       "      <td>Deer Tick With Lilly Hiatt – Presented By Opus...</td>\n",
       "      <td>Wednesday, September 15, 2021</td>\n",
       "    </tr>\n",
       "    <tr>\n",
       "      <th>4</th>\n",
       "      <td>Úzkost, Riparian, Greywalker &amp; Horehound at Th...</td>\n",
       "      <td>Friday, September 17, 2021</td>\n",
       "    </tr>\n",
       "    <tr>\n",
       "      <th>5</th>\n",
       "      <td>Dogleg + Retirement Party</td>\n",
       "      <td>Saturday, September 18, 2021</td>\n",
       "    </tr>\n",
       "    <tr>\n",
       "      <th>6</th>\n",
       "      <td>Tuk Smith and The Restless Hearts w/ Ravagers,...</td>\n",
       "      <td>Sunday, September 19, 2021</td>\n",
       "    </tr>\n",
       "    <tr>\n",
       "      <th>7</th>\n",
       "      <td>GWAR with Special Guests Madball, Eyehategod</td>\n",
       "      <td>Sunday, September 19, 2021</td>\n",
       "    </tr>\n",
       "    <tr>\n",
       "      <th>8</th>\n",
       "      <td>Alex G – Presented by Opus One &amp; WPTS Radio</td>\n",
       "      <td>Monday, September 20, 2021</td>\n",
       "    </tr>\n",
       "    <tr>\n",
       "      <th>9</th>\n",
       "      <td>Bob Mould Band: Distortion and Blue Hearts! wi...</td>\n",
       "      <td>Tuesday, September 21, 2021</td>\n",
       "    </tr>\n",
       "  </tbody>\n",
       "</table>\n",
       "</div>"
      ],
      "text/plain": [
       "                                               Event  \\\n",
       "0  POSTPONED – New Date TBA: Dinosaur Jr. with Sp...   \n",
       "1  POSTPONED – Chet Vincent & Biirdwatcher, The R...   \n",
       "2  CANCELLED – Moon Taxi with Special Guest Spark...   \n",
       "3  Deer Tick With Lilly Hiatt – Presented By Opus...   \n",
       "4  Úzkost, Riparian, Greywalker & Horehound at Th...   \n",
       "5                          Dogleg + Retirement Party   \n",
       "6  Tuk Smith and The Restless Hearts w/ Ravagers,...   \n",
       "7       GWAR with Special Guests Madball, Eyehategod   \n",
       "8        Alex G – Presented by Opus One & WPTS Radio   \n",
       "9  Bob Mould Band: Distortion and Blue Hearts! wi...   \n",
       "\n",
       "                            Date  \n",
       "0     Friday, September 10, 2021  \n",
       "1     Friday, September 10, 2021  \n",
       "2     Sunday, September 12, 2021  \n",
       "3  Wednesday, September 15, 2021  \n",
       "4     Friday, September 17, 2021  \n",
       "5   Saturday, September 18, 2021  \n",
       "6     Sunday, September 19, 2021  \n",
       "7     Sunday, September 19, 2021  \n",
       "8     Monday, September 20, 2021  \n",
       "9    Tuesday, September 21, 2021  "
      ]
     },
     "metadata": {},
     "execution_count": 23
    }
   ],
   "metadata": {}
  }
 ],
 "metadata": {
  "orig_nbformat": 4,
  "language_info": {
   "name": "python",
   "version": "3.9.6",
   "mimetype": "text/x-python",
   "codemirror_mode": {
    "name": "ipython",
    "version": 3
   },
   "pygments_lexer": "ipython3",
   "nbconvert_exporter": "python",
   "file_extension": ".py"
  },
  "kernelspec": {
   "name": "python3",
   "display_name": "Python 3.9.6 64-bit ('PythonData': conda)"
  },
  "interpreter": {
   "hash": "3b32922ae442944bae51de5c420d7545d4126864cdc0e7cb358b7d9924f39d3e"
  }
 },
 "nbformat": 4,
 "nbformat_minor": 2
}